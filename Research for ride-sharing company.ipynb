{
 "cells": [
  {
   "cell_type": "markdown",
   "metadata": {},
   "source": [
    "# <center><font color='#00b33c'>A new ride-sharing company in Chicago</font></center>"
   ]
  },
  {
   "cell_type": "markdown",
   "metadata": {},
   "source": [
    "<center><img src=\"Taxi_Cab_vector_2.jpg\"></center>"
   ]
  },
  {
   "cell_type": "markdown",
   "metadata": {},
   "source": [
    "### Contents <a class=\"anchor\" id=\"contents\"></a>\n",
    "\n",
    "* [Project description](#Project_description)\n",
    "<p> </p> \n",
    "* [Part 1. General information](#Part_1)\n",
    "* [Part 2. Data preprocessing](#Part_2)\n",
    "* [Part 3. Test Hypotesis](#Part_3)\n",
    "<p> </p>     \n",
    "* [General Conclusion](#General_Conclusion)"
   ]
  },
  {
   "cell_type": "markdown",
   "metadata": {},
   "source": [
    "## Project Description<a class=\"anchor\" id=\"Project_description\"></a>\n",
    "\n",
    "You're working as an analyst for Zuber, a new ride-sharing company that's launching in Chicago. Your task is to find patterns in the available information. You want to understand passenger preferences and the impact of external factors on rides."
   ]
  },
  {
   "cell_type": "markdown",
   "metadata": {},
   "source": [
    "## Part 1. General information <a class=\"anchor\" id=\"Part_1\"></a>\n",
    "[Go back to the Contents](#contents)\n",
    "\n",
    "Let's load the libraries required for data manipulation and analysis."
   ]
  },
  {
   "cell_type": "code",
   "execution_count": 1,
   "metadata": {},
   "outputs": [],
   "source": [
    "#import packages for data manipulations\n",
    "import pandas as pd\n",
    "import numpy as np\n",
    "#library of statistical functions\n",
    "from scipy import stats as st\n",
    "#import packages for data plotting\n",
    "import matplotlib.pyplot as plt\n",
    "#import seaborn as sns\n",
    "#!pip install squarify\n",
    "import squarify"
   ]
  },
  {
   "cell_type": "markdown",
   "metadata": {},
   "source": [
    "We have three datasets created in a database."
   ]
  },
  {
   "cell_type": "code",
   "execution_count": 2,
   "metadata": {},
   "outputs": [],
   "source": [
    "#source of the data:\n",
    "#taxi companies\n",
    "taxi = pd.read_csv(\"project_sql_result_01.csv\")\n",
    "#rides to Chicago neighborhoods\n",
    "location = pd.read_csv(\"project_sql_result_04.csv\")\n",
    "#rides to airport\n",
    "to_airport = pd.read_csv(\"project_sql_result_07.csv\")"
   ]
  },
  {
   "cell_type": "code",
   "execution_count": 3,
   "metadata": {},
   "outputs": [
    {
     "name": "stdout",
     "output_type": "stream",
     "text": [
      "<class 'pandas.core.frame.DataFrame'>\n",
      "RangeIndex: 64 entries, 0 to 63\n",
      "Data columns (total 2 columns):\n",
      " #   Column        Non-Null Count  Dtype \n",
      "---  ------        --------------  ----- \n",
      " 0   company_name  64 non-null     object\n",
      " 1   trips_amount  64 non-null     int64 \n",
      "dtypes: int64(1), object(1)\n",
      "memory usage: 1.1+ KB\n"
     ]
    }
   ],
   "source": [
    "#structure of the dataset\n",
    "taxi.info()"
   ]
  },
  {
   "cell_type": "markdown",
   "metadata": {},
   "source": [
    "**Dataset contains:**<br>\n",
    "- **company_name** - taxi company name<br>\n",
    "- **trips_amount** - the number of rides for each taxi company on November 15-16, 2017"
   ]
  },
  {
   "cell_type": "code",
   "execution_count": 4,
   "metadata": {},
   "outputs": [
    {
     "data": {
      "text/html": [
       "<div>\n",
       "<style scoped>\n",
       "    .dataframe tbody tr th:only-of-type {\n",
       "        vertical-align: middle;\n",
       "    }\n",
       "\n",
       "    .dataframe tbody tr th {\n",
       "        vertical-align: top;\n",
       "    }\n",
       "\n",
       "    .dataframe thead th {\n",
       "        text-align: right;\n",
       "    }\n",
       "</style>\n",
       "<table border=\"1\" class=\"dataframe\">\n",
       "  <thead>\n",
       "    <tr style=\"text-align: right;\">\n",
       "      <th></th>\n",
       "      <th>company_name</th>\n",
       "      <th>trips_amount</th>\n",
       "    </tr>\n",
       "  </thead>\n",
       "  <tbody>\n",
       "    <tr>\n",
       "      <th>49</th>\n",
       "      <td>5074 - 54002 Ahzmi Inc</td>\n",
       "      <td>16</td>\n",
       "    </tr>\n",
       "    <tr>\n",
       "      <th>44</th>\n",
       "      <td>2092 - 61288 Sbeih company</td>\n",
       "      <td>27</td>\n",
       "    </tr>\n",
       "    <tr>\n",
       "      <th>17</th>\n",
       "      <td>Chicago Medallion Management</td>\n",
       "      <td>1955</td>\n",
       "    </tr>\n",
       "    <tr>\n",
       "      <th>59</th>\n",
       "      <td>4053 - 40193 Adwar H. Nikola</td>\n",
       "      <td>7</td>\n",
       "    </tr>\n",
       "    <tr>\n",
       "      <th>12</th>\n",
       "      <td>Dispatch Taxi Affiliation</td>\n",
       "      <td>3355</td>\n",
       "    </tr>\n",
       "    <tr>\n",
       "      <th>19</th>\n",
       "      <td>Chicago Medallion Leasing INC</td>\n",
       "      <td>1607</td>\n",
       "    </tr>\n",
       "    <tr>\n",
       "      <th>18</th>\n",
       "      <td>24 Seven Taxi</td>\n",
       "      <td>1775</td>\n",
       "    </tr>\n",
       "    <tr>\n",
       "      <th>47</th>\n",
       "      <td>4615 - 83503 Tyrone Henderson</td>\n",
       "      <td>21</td>\n",
       "    </tr>\n",
       "    <tr>\n",
       "      <th>1</th>\n",
       "      <td>Taxi Affiliation Services</td>\n",
       "      <td>11422</td>\n",
       "    </tr>\n",
       "    <tr>\n",
       "      <th>9</th>\n",
       "      <td>Blue Ribbon Taxi Association Inc.</td>\n",
       "      <td>5953</td>\n",
       "    </tr>\n",
       "  </tbody>\n",
       "</table>\n",
       "</div>"
      ],
      "text/plain": [
       "                         company_name  trips_amount\n",
       "49             5074 - 54002 Ahzmi Inc            16\n",
       "44         2092 - 61288 Sbeih company            27\n",
       "17       Chicago Medallion Management          1955\n",
       "59       4053 - 40193 Adwar H. Nikola             7\n",
       "12          Dispatch Taxi Affiliation          3355\n",
       "19      Chicago Medallion Leasing INC          1607\n",
       "18                      24 Seven Taxi          1775\n",
       "47      4615 - 83503 Tyrone Henderson            21\n",
       "1           Taxi Affiliation Services         11422\n",
       "9   Blue Ribbon Taxi Association Inc.          5953"
      ]
     },
     "execution_count": 4,
     "metadata": {},
     "output_type": "execute_result"
    }
   ],
   "source": [
    "#10 rows for quickly testing dataset\n",
    "taxi.sample(10)"
   ]
  },
  {
   "cell_type": "code",
   "execution_count": 5,
   "metadata": {},
   "outputs": [
    {
     "name": "stdout",
     "output_type": "stream",
     "text": [
      "<class 'pandas.core.frame.DataFrame'>\n",
      "RangeIndex: 94 entries, 0 to 93\n",
      "Data columns (total 2 columns):\n",
      " #   Column                 Non-Null Count  Dtype  \n",
      "---  ------                 --------------  -----  \n",
      " 0   dropoff_location_name  94 non-null     object \n",
      " 1   average_trips          94 non-null     float64\n",
      "dtypes: float64(1), object(1)\n",
      "memory usage: 1.6+ KB\n"
     ]
    }
   ],
   "source": [
    "#structure of the dataset\n",
    "location.info()"
   ]
  },
  {
   "cell_type": "markdown",
   "metadata": {},
   "source": [
    "**Dataset contains:**<br>\n",
    "- **dropoff_location_name** - Chicago neighborhoods where ride was ended\n",
    "- **average_trips** - the average number of rides to neighborhood in November 2017"
   ]
  },
  {
   "cell_type": "code",
   "execution_count": 6,
   "metadata": {},
   "outputs": [
    {
     "data": {
      "text/html": [
       "<div>\n",
       "<style scoped>\n",
       "    .dataframe tbody tr th:only-of-type {\n",
       "        vertical-align: middle;\n",
       "    }\n",
       "\n",
       "    .dataframe tbody tr th {\n",
       "        vertical-align: top;\n",
       "    }\n",
       "\n",
       "    .dataframe thead th {\n",
       "        text-align: right;\n",
       "    }\n",
       "</style>\n",
       "<table border=\"1\" class=\"dataframe\">\n",
       "  <thead>\n",
       "    <tr style=\"text-align: right;\">\n",
       "      <th></th>\n",
       "      <th>dropoff_location_name</th>\n",
       "      <th>average_trips</th>\n",
       "    </tr>\n",
       "  </thead>\n",
       "  <tbody>\n",
       "    <tr>\n",
       "      <th>18</th>\n",
       "      <td>West Town</td>\n",
       "      <td>516.400000</td>\n",
       "    </tr>\n",
       "    <tr>\n",
       "      <th>6</th>\n",
       "      <td>Grant Park</td>\n",
       "      <td>2068.533333</td>\n",
       "    </tr>\n",
       "    <tr>\n",
       "      <th>21</th>\n",
       "      <td>North Center</td>\n",
       "      <td>393.266667</td>\n",
       "    </tr>\n",
       "    <tr>\n",
       "      <th>62</th>\n",
       "      <td>Brighton Park</td>\n",
       "      <td>19.466667</td>\n",
       "    </tr>\n",
       "    <tr>\n",
       "      <th>50</th>\n",
       "      <td>South Shore</td>\n",
       "      <td>40.533333</td>\n",
       "    </tr>\n",
       "    <tr>\n",
       "      <th>12</th>\n",
       "      <td>Little Italy, UIC</td>\n",
       "      <td>863.700000</td>\n",
       "    </tr>\n",
       "    <tr>\n",
       "      <th>84</th>\n",
       "      <td>West Pullman</td>\n",
       "      <td>6.466667</td>\n",
       "    </tr>\n",
       "    <tr>\n",
       "      <th>4</th>\n",
       "      <td>O'Hare</td>\n",
       "      <td>2546.900000</td>\n",
       "    </tr>\n",
       "    <tr>\n",
       "      <th>13</th>\n",
       "      <td>Uptown</td>\n",
       "      <td>849.666667</td>\n",
       "    </tr>\n",
       "    <tr>\n",
       "      <th>89</th>\n",
       "      <td>Mount Greenwood</td>\n",
       "      <td>3.137931</td>\n",
       "    </tr>\n",
       "  </tbody>\n",
       "</table>\n",
       "</div>"
      ],
      "text/plain": [
       "   dropoff_location_name  average_trips\n",
       "18             West Town     516.400000\n",
       "6             Grant Park    2068.533333\n",
       "21          North Center     393.266667\n",
       "62         Brighton Park      19.466667\n",
       "50           South Shore      40.533333\n",
       "12     Little Italy, UIC     863.700000\n",
       "84          West Pullman       6.466667\n",
       "4                 O'Hare    2546.900000\n",
       "13                Uptown     849.666667\n",
       "89       Mount Greenwood       3.137931"
      ]
     },
     "execution_count": 6,
     "metadata": {},
     "output_type": "execute_result"
    }
   ],
   "source": [
    "#10 rows for quickly testing dataset\n",
    "location.sample(10)"
   ]
  },
  {
   "cell_type": "code",
   "execution_count": 7,
   "metadata": {},
   "outputs": [
    {
     "name": "stdout",
     "output_type": "stream",
     "text": [
      "<class 'pandas.core.frame.DataFrame'>\n",
      "RangeIndex: 1068 entries, 0 to 1067\n",
      "Data columns (total 3 columns):\n",
      " #   Column              Non-Null Count  Dtype  \n",
      "---  ------              --------------  -----  \n",
      " 0   start_ts            1068 non-null   object \n",
      " 1   weather_conditions  1068 non-null   object \n",
      " 2   duration_seconds    1068 non-null   float64\n",
      "dtypes: float64(1), object(2)\n",
      "memory usage: 25.2+ KB\n"
     ]
    }
   ],
   "source": [
    "#structure of the dataset\n",
    "to_airport.info()"
   ]
  },
  {
   "cell_type": "markdown",
   "metadata": {},
   "source": [
    "**Dataset contains** the rides from Loop to O'Hare International Airport. These are the table fields:<br>\n",
    "- **start_ts** - pickup date and time\n",
    "- **weather_conditions** - weather conditions at the moment the ride was started\n",
    "- **duration_seconds** - ride duration in seconds\n",
    "\n",
    "According to the description of the dataset, I will convert float type with integer."
   ]
  },
  {
   "cell_type": "code",
   "execution_count": 8,
   "metadata": {},
   "outputs": [
    {
     "data": {
      "text/html": [
       "<div>\n",
       "<style scoped>\n",
       "    .dataframe tbody tr th:only-of-type {\n",
       "        vertical-align: middle;\n",
       "    }\n",
       "\n",
       "    .dataframe tbody tr th {\n",
       "        vertical-align: top;\n",
       "    }\n",
       "\n",
       "    .dataframe thead th {\n",
       "        text-align: right;\n",
       "    }\n",
       "</style>\n",
       "<table border=\"1\" class=\"dataframe\">\n",
       "  <thead>\n",
       "    <tr style=\"text-align: right;\">\n",
       "      <th></th>\n",
       "      <th>start_ts</th>\n",
       "      <th>weather_conditions</th>\n",
       "      <th>duration_seconds</th>\n",
       "    </tr>\n",
       "  </thead>\n",
       "  <tbody>\n",
       "    <tr>\n",
       "      <th>582</th>\n",
       "      <td>2017-11-04 17:00:00</td>\n",
       "      <td>Bad</td>\n",
       "      <td>2330</td>\n",
       "    </tr>\n",
       "    <tr>\n",
       "      <th>978</th>\n",
       "      <td>2017-11-18 08:00:00</td>\n",
       "      <td>Bad</td>\n",
       "      <td>1620</td>\n",
       "    </tr>\n",
       "    <tr>\n",
       "      <th>125</th>\n",
       "      <td>2017-11-11 08:00:00</td>\n",
       "      <td>Good</td>\n",
       "      <td>1380</td>\n",
       "    </tr>\n",
       "    <tr>\n",
       "      <th>682</th>\n",
       "      <td>2017-11-04 06:00:00</td>\n",
       "      <td>Good</td>\n",
       "      <td>1267</td>\n",
       "    </tr>\n",
       "    <tr>\n",
       "      <th>955</th>\n",
       "      <td>2017-11-04 18:00:00</td>\n",
       "      <td>Bad</td>\n",
       "      <td>1775</td>\n",
       "    </tr>\n",
       "    <tr>\n",
       "      <th>105</th>\n",
       "      <td>2017-11-11 09:00:00</td>\n",
       "      <td>Good</td>\n",
       "      <td>1380</td>\n",
       "    </tr>\n",
       "    <tr>\n",
       "      <th>683</th>\n",
       "      <td>2017-11-04 17:00:00</td>\n",
       "      <td>Bad</td>\n",
       "      <td>2151</td>\n",
       "    </tr>\n",
       "    <tr>\n",
       "      <th>1063</th>\n",
       "      <td>2017-11-25 11:00:00</td>\n",
       "      <td>Good</td>\n",
       "      <td>0</td>\n",
       "    </tr>\n",
       "    <tr>\n",
       "      <th>954</th>\n",
       "      <td>2017-11-18 06:00:00</td>\n",
       "      <td>Good</td>\n",
       "      <td>1638</td>\n",
       "    </tr>\n",
       "    <tr>\n",
       "      <th>461</th>\n",
       "      <td>2017-11-11 12:00:00</td>\n",
       "      <td>Good</td>\n",
       "      <td>1968</td>\n",
       "    </tr>\n",
       "  </tbody>\n",
       "</table>\n",
       "</div>"
      ],
      "text/plain": [
       "                 start_ts weather_conditions  duration_seconds\n",
       "582   2017-11-04 17:00:00                Bad              2330\n",
       "978   2017-11-18 08:00:00                Bad              1620\n",
       "125   2017-11-11 08:00:00               Good              1380\n",
       "682   2017-11-04 06:00:00               Good              1267\n",
       "955   2017-11-04 18:00:00                Bad              1775\n",
       "105   2017-11-11 09:00:00               Good              1380\n",
       "683   2017-11-04 17:00:00                Bad              2151\n",
       "1063  2017-11-25 11:00:00               Good                 0\n",
       "954   2017-11-18 06:00:00               Good              1638\n",
       "461   2017-11-11 12:00:00               Good              1968"
      ]
     },
     "execution_count": 8,
     "metadata": {},
     "output_type": "execute_result"
    }
   ],
   "source": [
    "#convert float to integer type\n",
    "to_airport['duration_seconds'] = to_airport['duration_seconds'].astype('int')\n",
    "\n",
    "#10 rows for quickly testing dataset\n",
    "to_airport.sample(10)"
   ]
  },
  {
   "cell_type": "markdown",
   "metadata": {},
   "source": [
    "Datasets do not contain missing data. The data types in datasets match the content."
   ]
  },
  {
   "cell_type": "markdown",
   "metadata": {},
   "source": [
    "## Step 2. Data preprocessing <a class=\"anchor\" id=\"Part_2\"></a>\n",
    "[Go back to the Contents](#contents)\n",
    "\n",
    "In this step, let's look at the content of the datasets in more detail and define the patterns."
   ]
  },
  {
   "cell_type": "code",
   "execution_count": 9,
   "metadata": {},
   "outputs": [
    {
     "data": {
      "text/html": [
       "<div>\n",
       "<style scoped>\n",
       "    .dataframe tbody tr th:only-of-type {\n",
       "        vertical-align: middle;\n",
       "    }\n",
       "\n",
       "    .dataframe tbody tr th {\n",
       "        vertical-align: top;\n",
       "    }\n",
       "\n",
       "    .dataframe thead th {\n",
       "        text-align: right;\n",
       "    }\n",
       "</style>\n",
       "<table border=\"1\" class=\"dataframe\">\n",
       "  <thead>\n",
       "    <tr style=\"text-align: right;\">\n",
       "      <th></th>\n",
       "      <th>trips_amount</th>\n",
       "    </tr>\n",
       "  </thead>\n",
       "  <tbody>\n",
       "    <tr>\n",
       "      <th>count</th>\n",
       "      <td>64.000000</td>\n",
       "    </tr>\n",
       "    <tr>\n",
       "      <th>mean</th>\n",
       "      <td>2145.484375</td>\n",
       "    </tr>\n",
       "    <tr>\n",
       "      <th>std</th>\n",
       "      <td>3812.310186</td>\n",
       "    </tr>\n",
       "    <tr>\n",
       "      <th>min</th>\n",
       "      <td>2.000000</td>\n",
       "    </tr>\n",
       "    <tr>\n",
       "      <th>25%</th>\n",
       "      <td>20.750000</td>\n",
       "    </tr>\n",
       "    <tr>\n",
       "      <th>50%</th>\n",
       "      <td>178.500000</td>\n",
       "    </tr>\n",
       "    <tr>\n",
       "      <th>75%</th>\n",
       "      <td>2106.500000</td>\n",
       "    </tr>\n",
       "    <tr>\n",
       "      <th>max</th>\n",
       "      <td>19558.000000</td>\n",
       "    </tr>\n",
       "  </tbody>\n",
       "</table>\n",
       "</div>"
      ],
      "text/plain": [
       "       trips_amount\n",
       "count     64.000000\n",
       "mean    2145.484375\n",
       "std     3812.310186\n",
       "min        2.000000\n",
       "25%       20.750000\n",
       "50%      178.500000\n",
       "75%     2106.500000\n",
       "max    19558.000000"
      ]
     },
     "execution_count": 9,
     "metadata": {},
     "output_type": "execute_result"
    }
   ],
   "source": [
    "#general statistic\n",
    "taxi.describe()"
   ]
  },
  {
   "cell_type": "markdown",
   "metadata": {},
   "source": [
    "Statistics show a big difference between the mean and median values. Let's see the distribution of data."
   ]
  },
  {
   "cell_type": "code",
   "execution_count": 10,
   "metadata": {},
   "outputs": [
    {
     "data": {
      "image/png": "[encoded data removed]",
      "text/plain": [
       "<Figure size 432x288 with 1 Axes>"
      ]
     },
     "metadata": {
      "needs_background": "light"
     },
     "output_type": "display_data"
    }
   ],
   "source": [
    "#histogram of distribution\n",
    "taxi.hist(bins=9, color='green', alpha = 0.7);"
   ]
  },
  {
   "cell_type": "markdown",
   "metadata": {},
   "source": [
    "The graph shows that the distribution of the data deviates strongly to the right. This distribution is consistent with the meaning of the content. We also have an outlier.<br>\n",
    "Let's look at the number of trips made by different companies."
   ]
  },
  {
   "cell_type": "code",
   "execution_count": 11,
   "metadata": {},
   "outputs": [],
   "source": [
    "#total number of trips in the dataset\n",
    "sum_trips = taxi['trips_amount'].sum()\n",
    "\n",
    "#percentage of trips by each company from the total\n",
    "taxi['percentage_of_trips']= taxi['trips_amount']/sum_trips *100"
   ]
  },
  {
   "cell_type": "markdown",
   "metadata": {},
   "source": [
    "Let's select companies whose percentage of trips is more than 1% of the total number of trips in the dataset."
   ]
  },
  {
   "cell_type": "code",
   "execution_count": 12,
   "metadata": {},
   "outputs": [
    {
     "name": "stdout",
     "output_type": "stream",
     "text": [
      "Total number of taxi companies -  64\n",
      "The companies whose percentage of trips is more than 1% of the total number -  22\n"
     ]
    }
   ],
   "source": [
    "#dataset for plotting\n",
    "df = taxi[taxi['percentage_of_trips']>1].sort_values('trips_amount', ascending=True)\n",
    "\n",
    "print(\"Total number of taxi companies - \", taxi.shape[0])\n",
    "print(\"The companies whose percentage of trips is more than 1% of the total number - \", df.shape[0])"
   ]
  },
  {
   "cell_type": "code",
   "execution_count": 13,
   "metadata": {},
   "outputs": [
    {
     "data": {
      "image/png": "[encoded data removed]",
      "text/plain": [
       "<Figure size 936x504 with 1 Axes>"
      ]
     },
     "metadata": {
      "needs_background": "light"
     },
     "output_type": "display_data"
    }
   ],
   "source": [
    "#params\n",
    "fig = plt.figure(figsize = (13, 7))\n",
    "ax = fig.add_subplot()\n",
    "ax.set_title('Compare the amount of rides across different taxi companies', fontdict={'size':15});\n",
    "ax.set_xlabel('amount of rides');\n",
    "x= df.company_name\n",
    "y= df.trips_amount\n",
    "#barplot graph\n",
    "ax.barh(x, y, color = \"green\", alpha = 0.6);"
   ]
  },
  {
   "cell_type": "markdown",
   "metadata": {},
   "source": [
    "The graph shows that the majority of trips are made by Flash Cab.\n",
    "\n",
    "Consider the data by location."
   ]
  },
  {
   "cell_type": "code",
   "execution_count": 14,
   "metadata": {},
   "outputs": [
    {
     "data": {
      "text/html": [
       "<div>\n",
       "<style scoped>\n",
       "    .dataframe tbody tr th:only-of-type {\n",
       "        vertical-align: middle;\n",
       "    }\n",
       "\n",
       "    .dataframe tbody tr th {\n",
       "        vertical-align: top;\n",
       "    }\n",
       "\n",
       "    .dataframe thead th {\n",
       "        text-align: right;\n",
       "    }\n",
       "</style>\n",
       "<table border=\"1\" class=\"dataframe\">\n",
       "  <thead>\n",
       "    <tr style=\"text-align: right;\">\n",
       "      <th></th>\n",
       "      <th>average_trips</th>\n",
       "    </tr>\n",
       "  </thead>\n",
       "  <tbody>\n",
       "    <tr>\n",
       "      <th>count</th>\n",
       "      <td>94.000000</td>\n",
       "    </tr>\n",
       "    <tr>\n",
       "      <th>mean</th>\n",
       "      <td>599.953728</td>\n",
       "    </tr>\n",
       "    <tr>\n",
       "      <th>std</th>\n",
       "      <td>1714.591098</td>\n",
       "    </tr>\n",
       "    <tr>\n",
       "      <th>min</th>\n",
       "      <td>1.800000</td>\n",
       "    </tr>\n",
       "    <tr>\n",
       "      <th>25%</th>\n",
       "      <td>14.266667</td>\n",
       "    </tr>\n",
       "    <tr>\n",
       "      <th>50%</th>\n",
       "      <td>52.016667</td>\n",
       "    </tr>\n",
       "    <tr>\n",
       "      <th>75%</th>\n",
       "      <td>298.858333</td>\n",
       "    </tr>\n",
       "    <tr>\n",
       "      <th>max</th>\n",
       "      <td>10727.466667</td>\n",
       "    </tr>\n",
       "  </tbody>\n",
       "</table>\n",
       "</div>"
      ],
      "text/plain": [
       "       average_trips\n",
       "count      94.000000\n",
       "mean      599.953728\n",
       "std      1714.591098\n",
       "min         1.800000\n",
       "25%        14.266667\n",
       "50%        52.016667\n",
       "75%       298.858333\n",
       "max     10727.466667"
      ]
     },
     "execution_count": 14,
     "metadata": {},
     "output_type": "execute_result"
    }
   ],
   "source": [
    "#general statistic\n",
    "location.describe()"
   ]
  },
  {
   "cell_type": "code",
   "execution_count": 15,
   "metadata": {},
   "outputs": [
    {
     "data": {
      "image/png": "[encoded data removed]",
      "text/plain": [
       "<Figure size 432x288 with 1 Axes>"
      ]
     },
     "metadata": {
      "needs_background": "light"
     },
     "output_type": "display_data"
    }
   ],
   "source": [
    "#plot\n",
    "location.plot(color='green').set_title('Distribution of trip numbers');"
   ]
  },
  {
   "cell_type": "markdown",
   "metadata": {},
   "source": [
    "We see a strong difference between the average number of trips to various Chicago neighborhoods.<br>\n",
    "Let's convert the data into percentages."
   ]
  },
  {
   "cell_type": "code",
   "execution_count": 16,
   "metadata": {},
   "outputs": [],
   "source": [
    "#sum of average number of trips in the dataset\n",
    "sum_trips = location['average_trips'].sum()\n",
    "\n",
    "#percentage of trips in each direction\n",
    "location['percentage_of_trips']= location['average_trips']/sum_trips *100"
   ]
  },
  {
   "cell_type": "markdown",
   "metadata": {},
   "source": [
    "Let's see which direction is the most popular."
   ]
  },
  {
   "cell_type": "code",
   "execution_count": 17,
   "metadata": {},
   "outputs": [
    {
     "name": "stdout",
     "output_type": "stream",
     "text": [
      "Total number of neighborhoods in Chicago,IL -  94\n",
      "Destinations where the average percentage of trips is over 1% -  18\n"
     ]
    }
   ],
   "source": [
    "#dataset for plotting\n",
    "df = location[location['percentage_of_trips']>1].sort_values('average_trips', ascending=True)\n",
    "\n",
    "print(\"Total number of neighborhoods in Chicago,IL - \", location.shape[0])\n",
    "print(\"Destinations where the average percentage of trips is over 1% - \", df.shape[0])"
   ]
  },
  {
   "cell_type": "code",
   "execution_count": 18,
   "metadata": {},
   "outputs": [
    {
     "data": {
      "image/png": "[encoded data removed]",
      "text/plain": [
       "<Figure size 936x504 with 1 Axes>"
      ]
     },
     "metadata": {
      "needs_background": "light"
     },
     "output_type": "display_data"
    }
   ],
   "source": [
    "#params\n",
    "fig = plt.figure(figsize = (13, 7))\n",
    "ax = fig.add_subplot()\n",
    "ax.set_title('Compare the average number of rides across different neighborhoods in Chicago,IL'\n",
    "             , fontdict={'size':15});\n",
    "ax.set_xlabel('average number of trips');\n",
    "x= df.dropoff_location_name\n",
    "y= df.average_trips\n",
    "#barplot graph\n",
    "ax.barh(x, y, color = \"grey\", alpha = 0.4);"
   ]
  },
  {
   "cell_type": "markdown",
   "metadata": {},
   "source": [
    "The most popular travel destination is Loop."
   ]
  },
  {
   "cell_type": "code",
   "execution_count": 19,
   "metadata": {},
   "outputs": [
    {
     "data": {
      "image/png": "[encoded data removed]",
      "text/plain": [
       "<Figure size 1080x504 with 1 Axes>"
      ]
     },
     "metadata": {
      "needs_background": "light"
     },
     "output_type": "display_data"
    }
   ],
   "source": [
    "# the top 10 neighborhoods in terms of drop-offs\n",
    "colors = ['red','orange','yellow','lightgreen','green','lightblue','blue','purple','navy','brown']\n",
    "df = location.nlargest(10, columns='average_trips')\n",
    "sizes = df['average_trips'].tolist()\n",
    "labels = df.apply(lambda x: str(x[0])+'\\n'+str(int(x[1])),axis=1)\n",
    "\n",
    "plt.figure(figsize=(15,7))\n",
    "plt.axis('off')\n",
    "plt.title('Top 10 The Most Popular Neighborhoods with Average Rides in Their Directions')\n",
    "squarify.plot(sizes=sizes,label=labels,alpha=.4, color=colors);\n",
    "plt.show()"
   ]
  },
  {
   "cell_type": "markdown",
   "metadata": {},
   "source": [
    "Consider the taxi ride data from Loop to O'Hare International Airport."
   ]
  },
  {
   "cell_type": "code",
   "execution_count": 20,
   "metadata": {},
   "outputs": [
    {
     "data": {
      "text/html": [
       "<div>\n",
       "<style scoped>\n",
       "    .dataframe tbody tr th:only-of-type {\n",
       "        vertical-align: middle;\n",
       "    }\n",
       "\n",
       "    .dataframe tbody tr th {\n",
       "        vertical-align: top;\n",
       "    }\n",
       "\n",
       "    .dataframe thead th {\n",
       "        text-align: right;\n",
       "    }\n",
       "</style>\n",
       "<table border=\"1\" class=\"dataframe\">\n",
       "  <thead>\n",
       "    <tr style=\"text-align: right;\">\n",
       "      <th></th>\n",
       "      <th>duration_seconds</th>\n",
       "    </tr>\n",
       "  </thead>\n",
       "  <tbody>\n",
       "    <tr>\n",
       "      <th>count</th>\n",
       "      <td>1068.000000</td>\n",
       "    </tr>\n",
       "    <tr>\n",
       "      <th>mean</th>\n",
       "      <td>2071.731273</td>\n",
       "    </tr>\n",
       "    <tr>\n",
       "      <th>std</th>\n",
       "      <td>769.461125</td>\n",
       "    </tr>\n",
       "    <tr>\n",
       "      <th>min</th>\n",
       "      <td>0.000000</td>\n",
       "    </tr>\n",
       "    <tr>\n",
       "      <th>25%</th>\n",
       "      <td>1438.250000</td>\n",
       "    </tr>\n",
       "    <tr>\n",
       "      <th>50%</th>\n",
       "      <td>1980.000000</td>\n",
       "    </tr>\n",
       "    <tr>\n",
       "      <th>75%</th>\n",
       "      <td>2580.000000</td>\n",
       "    </tr>\n",
       "    <tr>\n",
       "      <th>max</th>\n",
       "      <td>7440.000000</td>\n",
       "    </tr>\n",
       "  </tbody>\n",
       "</table>\n",
       "</div>"
      ],
      "text/plain": [
       "       duration_seconds\n",
       "count       1068.000000\n",
       "mean        2071.731273\n",
       "std          769.461125\n",
       "min            0.000000\n",
       "25%         1438.250000\n",
       "50%         1980.000000\n",
       "75%         2580.000000\n",
       "max         7440.000000"
      ]
     },
     "execution_count": 20,
     "metadata": {},
     "output_type": "execute_result"
    }
   ],
   "source": [
    "#general statistic\n",
    "to_airport.describe()"
   ]
  },
  {
   "cell_type": "markdown",
   "metadata": {},
   "source": [
    "We have a minimum value of 0. Let's see the data distribution."
   ]
  },
  {
   "cell_type": "code",
   "execution_count": 21,
   "metadata": {},
   "outputs": [
    {
     "data": {
      "image/png": "[encoded data removed]",
      "text/plain": [
       "<Figure size 432x288 with 1 Axes>"
      ]
     },
     "metadata": {
      "needs_background": "light"
     },
     "output_type": "display_data"
    }
   ],
   "source": [
    "#histogram of distribution\n",
    "to_airport.hist(bins=8, color='green', alpha = 0.7);"
   ]
  },
  {
   "cell_type": "markdown",
   "metadata": {},
   "source": [
    "Let's remove anomalies and outliers to improve the quality of further analysis."
   ]
  },
  {
   "cell_type": "code",
   "execution_count": 22,
   "metadata": {},
   "outputs": [],
   "source": [
    "#filtered dataset\n",
    "filtered_to_airport = to_airport.loc[(to_airport['duration_seconds']>0)&(to_airport['duration_seconds']<5500)]"
   ]
  },
  {
   "cell_type": "code",
   "execution_count": 23,
   "metadata": {},
   "outputs": [
    {
     "name": "stdout",
     "output_type": "stream",
     "text": [
      "Average travel time is 34.6 minutes\n"
     ]
    }
   ],
   "source": [
    "print('Average travel time is', round(filtered_to_airport.duration_seconds.mean()/60,1),'minutes')"
   ]
  },
  {
   "cell_type": "markdown",
   "metadata": {},
   "source": [
    "## Part 3. Test Hypotesis<a class=\"anchor\" id=\"Part_3\"></a>\n",
    "[Go back to the Contents](#contents)\n",
    "\n",
    "Our task here is to check this sentence:<br>\n",
    "_The average duration of rides from the Loop to O'Hare International Airport changes on rainy Saturdays_\n",
    "\n",
    "The null hypothesis H₀ is always stated with an equal sign, so:<br>\n",
    "H₀ - Average travel times in rainy and non-rainy weather are the same.\n",
    "\n",
    "The alternative hypothesis, H₁, is based on H₀, so:<br>\n",
    "H₁ - Average travel times in rainy and non-rainy weather are differ.\n",
    "\n",
    "The significant level is the probability of rejecting the null hypothesis. I will use the significant level = 0.05, because a p-value less than 0.05 (typically ≤ 0.05) is statistically significant.\n",
    "\n",
    "I will apply a scipy.stats.ttest_ind method. This is a two-sided test for the null hypothesis that 2 independent samples have identical average (expected) values."
   ]
  },
  {
   "cell_type": "code",
   "execution_count": 24,
   "metadata": {},
   "outputs": [],
   "source": [
    "def ttest(sample_1, sample_2, is_equal_var):\n",
    "    #this function perform a standard independent 2 sample test\n",
    "    # or Welch’s t-test, which does not assume equal population variance\n",
    "    \n",
    "    alpha = .05 #The significant level\n",
    "\n",
    "    results = st.ttest_ind(\n",
    "            sample_1, \n",
    "            sample_2,\n",
    "            equal_var= is_equal_var)\n",
    "\n",
    "    #if the p-value is less than alpha, we reject the hypothesis\n",
    "    print('p-value: ', results.pvalue)\n",
    " \n",
    "    if (results.pvalue < alpha):\n",
    "        print(\"We reject the null hypothesis\")\n",
    "    else:\n",
    "        print(\"We can't reject the null hypothesis\")"
   ]
  },
  {
   "cell_type": "code",
   "execution_count": 25,
   "metadata": {},
   "outputs": [],
   "source": [
    "#dataset of rides in rainy weather\n",
    "df_1 = filtered_to_airport.loc[(filtered_to_airport['weather_conditions']=='Bad')]['duration_seconds']\n",
    "#dataset of rides in non-rainy weather\n",
    "df_2 = filtered_to_airport.loc[(filtered_to_airport['weather_conditions']=='Good')]['duration_seconds']"
   ]
  },
  {
   "cell_type": "markdown",
   "metadata": {},
   "source": [
    "Let's determine the sample size."
   ]
  },
  {
   "cell_type": "code",
   "execution_count": 26,
   "metadata": {},
   "outputs": [
    {
     "name": "stdout",
     "output_type": "stream",
     "text": [
      "Sample size: 180\n"
     ]
    }
   ],
   "source": [
    "#count sample size\n",
    "sample_size_1 = df_1.count()\n",
    "sample_size_2 = df_2.count()\n",
    "\n",
    "if (sample_size_1 <= sample_size_2):\n",
    "    sample_size= sample_size_1\n",
    "else:\n",
    "    sample_size= sample_size_2  \n",
    "    \n",
    "print('Sample size:', sample_size)\n",
    "list_1 = df_1.sample(sample_size).tolist()\n",
    "list_2 = df_2.sample(sample_size).tolist()"
   ]
  },
  {
   "cell_type": "markdown",
   "metadata": {},
   "source": [
    "Let's determine the variances."
   ]
  },
  {
   "cell_type": "code",
   "execution_count": 27,
   "metadata": {},
   "outputs": [
    {
     "name": "stdout",
     "output_type": "stream",
     "text": [
      "Variance of average duration of rides in rainy weather -  517403.5633024691\n",
      "Variance of average duration of rides in non-rainy weather -  537312.1818209876\n"
     ]
    }
   ],
   "source": [
    "#variance\n",
    "var_1 = np.var(list_1)\n",
    "var_2 = np.var(list_2)\n",
    "print('Variance of average duration of rides in rainy weather - ',var_1)\n",
    "print('Variance of average duration of rides in non-rainy weather - ',var_2)"
   ]
  },
  {
   "cell_type": "code",
   "execution_count": 28,
   "metadata": {},
   "outputs": [
    {
     "name": "stdout",
     "output_type": "stream",
     "text": [
      "p-value:  2.7688377475183004e-09\n",
      "We reject the null hypothesis\n"
     ]
    }
   ],
   "source": [
    "if (var_1 == var_2):\n",
    "    is_equal_variance = True  #perform a standard independent 2 sample test\n",
    "else:    \n",
    "    is_equal_variance = False #perform Welch’s t-test\n",
    "\n",
    "#t-test\n",
    "ttest( list_1, list_2, is_equal_variance)"
   ]
  },
  {
   "cell_type": "markdown",
   "metadata": {},
   "source": [
    "The p-value shows less than 1% probability of a null hypothesis."
   ]
  },
  {
   "cell_type": "code",
   "execution_count": 29,
   "metadata": {},
   "outputs": [
    {
     "name": "stdout",
     "output_type": "stream",
     "text": [
      "Average travel time in rainy weather is 40.5 minutes\n",
      "Average travel time in non-rainy weather is 33.4 minutes\n"
     ]
    }
   ],
   "source": [
    "print('Average travel time in rainy weather is', round(df_1.mean()/60,1),'minutes')\n",
    "print('Average travel time in non-rainy weather is', round(df_2.mean()/60,1),'minutes')"
   ]
  },
  {
   "cell_type": "markdown",
   "metadata": {},
   "source": [
    "## General conclusion<a class=\"anchor\" id=\"General_conclusion\"></a>\n",
    "[Go back to the Contents](#contents)\n",
    "\n",
    "After examining the data, we can say that the largest number of trips are made by the Flash Cab company. Their values are 1.7 times higher than those of the closest competitor.<br>\n",
    "The most popular travel destinations are Loop, River North, Streeterville and West Loop. The average number of trips to these neighborhoods is significantly higher than the rest.<br>\n",
    "The hypothesis that the average duration of rides from the Loop to O'Hare International Airport changes on rainy Saturdays has been confirmed.<br> \n",
    "Average travel time in rainy weather is 40.5 minutes, in non-rainy weather - 33.4 minutes."
   ]
  }
 ],
 "metadata": {
  "kernelspec": {
   "display_name": "Python 3",
   "language": "python",
   "name": "python3"
  },
  "language_info": {
   "codemirror_mode": {
    "name": "ipython",
    "version": 3
   },
   "file_extension": ".py",
   "mimetype": "text/x-python",
   "name": "python",
   "nbconvert_exporter": "python",
   "pygments_lexer": "ipython3",
   "version": "3.7.9"
  },
  "toc": {
   "base_numbering": 1,
   "nav_menu": {},
   "number_sections": true,
   "sideBar": true,
   "skip_h1_title": false,
   "title_cell": "Table of Contents",
   "title_sidebar": "Contents",
   "toc_cell": false,
   "toc_position": {},
   "toc_section_display": true,
   "toc_window_display": false
  }
 },
 "nbformat": 4,
 "nbformat_minor": 2
}
